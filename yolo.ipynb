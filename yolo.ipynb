{
 "cells": [
  {
   "cell_type": "code",
   "execution_count": 6,
   "id": "472c12ef",
   "metadata": {},
   "outputs": [],
   "source": [
    "from ultralytics import YOLO\n",
    "\n",
    "# Burada kullanacağımız modeli seçiyoruz ve model değişkenine atıyoruz\n",
    "\n",
    "model= YOLO(\"yolov8m.pt\") "
   ]
  },
  {
   "cell_type": "code",
   "execution_count": 7,
   "id": "c839f528",
   "metadata": {},
   "outputs": [
    {
     "name": "stderr",
     "output_type": "stream",
     "text": [
      "Results saved to \u001b[1mruns\\detect\\predict9\u001b[0m\n"
     ]
    }
   ],
   "source": [
    "# model değişkeni predict metoduyla resim üzerinde nesne tahmini yapıyor\n",
    "\n",
    "# save=True: Tahmin sonuçlarını kaydetme opsiyonunu belirtir.\n",
    "\n",
    "# verbose=False Kodun çalıştırılması sırasında ekran üzerinde detaylı çıktıları gösterip göstermemeyi belirtir. \n",
    "# Sadece temel çıktıları görmeyi sağlar.\n",
    "\n",
    "# sonuc değişkeni üzerinden çıktıya ve çıktı özelliklerine ulaşılır\n",
    "\n",
    "sonuc=model.predict(source='kedi.jpg',save=True,verbose=False) "
   ]
  },
  {
   "cell_type": "code",
   "execution_count": 8,
   "id": "500de250",
   "metadata": {},
   "outputs": [
    {
     "data": {
      "text/plain": [
       "tensor([[ 65.2453,  93.8643, 360.7711, 572.9806]])"
      ]
     },
     "execution_count": 8,
     "metadata": {},
     "output_type": "execute_result"
    }
   ],
   "source": [
    "# sonuc[0] ->üzerinde tahmin yapılan ilk çıktı\n",
    "\n",
    "# sonuc[0].boxes -> çıktıya ait bounding box'ları (çerçeveleri) içeren özellikleri ifade eder.\n",
    "\n",
    "# sonuc[0].boxes.xyxy -> bounding box'ların(çerçevelerin) koordinatlarını ifade eder. \n",
    "\n",
    "sonuc[0].boxes.xyxy"
   ]
  },
  {
   "cell_type": "code",
   "execution_count": 9,
   "id": "a15e706a",
   "metadata": {},
   "outputs": [],
   "source": [
    "x1,y1,x2,y2=sonuc[0].boxes.xyxy[0] #kordinat değerlerini çoklu atama ile 4 değişkene atıyoruz"
   ]
  },
  {
   "cell_type": "code",
   "execution_count": 10,
   "id": "57802739",
   "metadata": {},
   "outputs": [
    {
     "data": {
      "text/plain": [
       "tensor(65.2453)"
      ]
     },
     "execution_count": 10,
     "metadata": {},
     "output_type": "execute_result"
    }
   ],
   "source": [
    "x1 #sol üst x kordinatı"
   ]
  },
  {
   "cell_type": "code",
   "execution_count": 11,
   "id": "fe73eb09",
   "metadata": {},
   "outputs": [
    {
     "data": {
      "text/plain": [
       "tensor(93.8643)"
      ]
     },
     "execution_count": 11,
     "metadata": {},
     "output_type": "execute_result"
    }
   ],
   "source": [
    "y1 #sol üst y kordinatı"
   ]
  },
  {
   "cell_type": "code",
   "execution_count": 12,
   "id": "e161843b",
   "metadata": {},
   "outputs": [
    {
     "data": {
      "text/plain": [
       "tensor(360.7711)"
      ]
     },
     "execution_count": 12,
     "metadata": {},
     "output_type": "execute_result"
    }
   ],
   "source": [
    "x2 #sağ alt x kordinatı"
   ]
  },
  {
   "cell_type": "code",
   "execution_count": 13,
   "id": "ed138957",
   "metadata": {},
   "outputs": [
    {
     "data": {
      "text/plain": [
       "tensor(572.9806)"
      ]
     },
     "execution_count": 13,
     "metadata": {},
     "output_type": "execute_result"
    }
   ],
   "source": [
    "y2 #sağ alt y kordinatı"
   ]
  },
  {
   "cell_type": "code",
   "execution_count": 14,
   "id": "1ae30223",
   "metadata": {},
   "outputs": [
    {
     "data": {
      "text/plain": [
       "tensor(0.9532)"
      ]
     },
     "execution_count": 14,
     "metadata": {},
     "output_type": "execute_result"
    }
   ],
   "source": [
    "skor=sonuc[0].boxes.conf[0] #boxes ->çerçevenin özelliklerini içerir  // conf[0] -> güven skorunu içerir,ilk skoru seçiyor\n",
    "skor  #doğruluk oranı,skoru\n"
   ]
  },
  {
   "cell_type": "code",
   "execution_count": 15,
   "id": "11ab9f0c",
   "metadata": {},
   "outputs": [
    {
     "data": {
      "text/plain": [
       "tensor(15.)"
      ]
     },
     "execution_count": 15,
     "metadata": {},
     "output_type": "execute_result"
    }
   ],
   "source": [
    "etiket=sonuc[0].boxes.cls[0] #boxes ->çerçevenin özelliklerini içerir // cls[0] -> sınıf etiketini içerir,ilk etiketi seçer\n",
    "\n",
    "etiket #burada resimde tespit edilen nesnenin coco8.yaml'daki atanmış idsine erişiyoruz. kedi->15"
   ]
  },
  {
   "cell_type": "code",
   "execution_count": 16,
   "id": "64678b20",
   "metadata": {},
   "outputs": [],
   "source": [
    "#yaptığımız örneklerde tanımlanan nesnelerin ismi bu listedeki değerlerden olucak\n",
    "\n",
    "etiketler=['insan','bisiklet','araba','motorsiklet','uçak','otobüs','tren','kamyon','bot','trafik lambası','yangın musluğu',\n",
    "'dur işareti','park metre','bank','kus','kedi','kopek','at','koyun','inek','fil','ayı','zebra','zurafa','sırt çantası','şemsiye',\n",
    "'el çantası','kravat','bavul','frizbi','kayaklar','snowbord','spor topu','uçurtma','beyzbol sopası','beyzbol eldiveni','kaykay',\n",
    "'sörf tahtası','tenis raketi','şişe','şarap bardağı','bardak','çatal','bıçak','kaşık','kase','muz','elma','sandviç','portakal',\n",
    "'brokoli','havuç','hotdog','pizza','donut','pasta','sandalye','kanepe','saksı bitkisi','yatak','yemek masası','tuvalet',\n",
    "'televizyon','laptop','maus','uzaktan kumanda','klavye','cep telefonu','mikrodalga','fırın','tost makinesi','lavabo','buzdolabı',\n",
    "'kitap','saat','vazo','makas''oyuncak ayı','saç kurutucu','diş fırçası']"
   ]
  },
  {
   "cell_type": "code",
   "execution_count": 17,
   "id": "f4a287eb",
   "metadata": {},
   "outputs": [],
   "source": [
    "canli=['insan','kus','kedi','kopek','at','koyun','inek','fil','ayı','zebra','zurafa'] #canlı,cansız ayrımında kullanılıcak liste"
   ]
  },
  {
   "cell_type": "markdown",
   "id": "05b3516e",
   "metadata": {},
   "source": [
    "# Resimde Nesne Tespiti \n"
   ]
  },
  {
   "cell_type": "code",
   "execution_count": 18,
   "id": "0b18582d",
   "metadata": {},
   "outputs": [],
   "source": [
    "import cv2\n",
    "\n",
    "resim=cv2.imread('ikinci.jpg') #resim yükleme kısmı\n",
    "\n",
    "\"\"\" (1) OpenCV kütüphanesini kullanarak BGR (Blue, Green, Red) renk uzayında temsil edilen bir görüntüyü RGB (Red, Green, Blue)\n",
    "renk uzayına dönüştürüyoruz.Resim RGB formatında oluyor ve bu formatı modelle tahminleyerek sonuc değişkenine atıyoruz \"\"\"\n",
    "\n",
    "rgb_resim=cv2.cvtColor(resim,cv2.COLOR_BGR2RGB) \n",
    "sonuc = model(rgb_resim) \n",
    "\n",
    "font = cv2.FONT_HERSHEY_SIMPLEX #yazı türünü font değişkenine atadık\n",
    "\n",
    "\"\"\" (2) for döngüsü sayesinde resimde tespit edilen nesnelerin değerlerine erişicez   \"\"\"\n",
    "\n",
    "for i in range(len(sonuc[0].boxes)): # len(sonuc[0].boxes ->resimde tespit edilen nesnelerin sayısı\n",
    "    \n",
    "    x1,y1,x2,y2=sonuc[0].boxes.xyxy[i] #resimdeki nesnelerin kordinatları (x1 ve y1->sol üst , x2 ve y2->sağ alt)\n",
    "    skor=sonuc[0].boxes.conf[i] #doğruluk oranı\n",
    "    etiket=sonuc[0].boxes.cls[i]  #etiket idsi coco8.yaml veri setine göre\n",
    "    \n",
    "    x1,y1,x2,y2,skor,etiket=int(x1),int(y1),int(x2),int(y2),float(skor),int(etiket) #sırayla değerleri atama\n",
    "    \n",
    "    nesne_ismi=etiketler[etiket] #etiketler->bizim isimlendirmelerimiz için kullanılacak liste/#etiket->nesnenin idsini dönücek\n",
    "    \n",
    "    \"\"\"(3) nesne_ismi değişkeni sayesinde canlı,cansız ayrımı yapabilcez ve nesne_ismi bizim verdiğimiz değerleri alıcak\"\"\" \n",
    "    \n",
    "    if skor<0.2: #doğruluk oranı 0.2 den düşükse değerlendirmeden geç \n",
    "        continue\n",
    "        \n",
    "    if nesne_ismi in canli: #tespit edilen nesne canlı listesinde ise...\n",
    "        cv2.rectangle(resim,(x1,y1),(x2,y2),(29,94,222),2) #nesne etrafında oluşucak dikdörtgenin kordinatı,rengi ve kalınlığı\n",
    "        yazi= nesne_ismi+' '+str(format(skor, '.2f'))+' '+'canli' #nesnenin üstünde yazıcak yazı \n",
    "        cv2.putText(resim, yazi,(x1, y1-10), font, 0.75,(255,0,0),2) #nesnenin üzerinde yazıcak yazıyı ayarlama\n",
    "        \n",
    "    if nesne_ismi not in canli:#canlı listesinde olmayan nesne ise...\n",
    "        cv2.rectangle(resim,(x1,y1),(x2,y2),(29,222,55),2)\n",
    "        yazi= nesne_ismi+' '+str(format(skor, '.2f'))+' '+'cansiz'\n",
    "        cv2.putText(resim, yazi,(x1, y1-10), font, 0.55,(255,0,255),2) #nesnenin üzerinde yazıcak yazıyı ayarlama\n",
    "        \n",
    "  \n",
    "cv2.imshow(\"kamera\",resim) # en son hali gösterme, pencerede kamera ismi yazıcak\n",
    "\n",
    "cv2.waitKey() #belirli süre bekletir klavyeden tuşa tıklanınca pencere kapanır\n",
    "cv2.destroyAllWindows() #pencereyi kapatan metot"
   ]
  },
  {
   "cell_type": "markdown",
   "id": "83f578b1",
   "metadata": {},
   "source": [
    "# Resimde Spesifik Bir Nesneyi (Sınıfı) Gösterme\n"
   ]
  },
  {
   "cell_type": "code",
   "execution_count": 19,
   "id": "911644cf",
   "metadata": {},
   "outputs": [],
   "source": [
    "import cv2\n",
    "\n",
    "resim=cv2.imread('ikinci.jpg') #resim yükleme kısmı\n",
    "\n",
    "rgb_resim=cv2.cvtColor(resim,cv2.COLOR_BGR2RGB) \n",
    "sonuc = model(rgb_resim) \n",
    "\n",
    "font = cv2.FONT_HERSHEY_SIMPLEX #yazı türünü font değişkenine atadık\n",
    "\n",
    "\"\"\" (2) for döngüsü sayesinde resimde tespit edilen nesnelerin değerlerine erişicez   \"\"\"\n",
    "\n",
    "for i in range(len(sonuc[0].boxes)): # len(sonuc[0].boxes ->resimde tespit edilen nesnelerin sayısı\n",
    "    \n",
    "    x1,y1,x2,y2=sonuc[0].boxes.xyxy[i] #resimdeki nesnelerin kordinatları (x1 ve y1->sol üst , x2 ve y2->sağ alt)\n",
    "    skor=sonuc[0].boxes.conf[i] #doğruluk oranı\n",
    "    etiket=sonuc[0].boxes.cls[i]  #etiket idsi coco8.yaml veri setine göre\n",
    "    \n",
    "    x1,y1,x2,y2,skor,etiket=int(x1),int(y1),int(x2),int(y2),float(skor),int(etiket) #sırayla değerleri atama\n",
    "    \n",
    "    nesne_ismi=etiketler[etiket] #etiketler->bizim isimlendirmelerimiz için kullanılacak liste/#etiket->nesnenin idsini dönücek\n",
    "        \n",
    "    if skor<0.2 or nesne_ismi!='bank': #doğruluk oranı 0.2 den düşükse ve tespit edilen nesne ismi bank değilse geç \n",
    "        continue\n",
    "        \n",
    "    if nesne_ismi in canli: #tespit edilen nesne canlı listesinde ise...\n",
    "        cv2.rectangle(resim,(x1,y1),(x2,y2),(29,94,222),2) #nesne etrafında oluşucak dikdörtgenin kordinatı,rengi ve kalınlığı\n",
    "        yazi= nesne_ismi+' '+str(format(skor, '.2f'))+' '+'canli' #nesnenin üstünde yazıcak yazı \n",
    "        cv2.putText(resim, yazi,(x1, y1-10), font, 0.75,(255,0,0),2) #nesnenin üzerinde yazıcak yazıyı ayarlama\n",
    "        \n",
    "    if nesne_ismi not in canli: #canlı listesinde olmayan nesne ise...\n",
    "        cv2.rectangle(resim,(x1,y1),(x2,y2),(29,222,55),2)\n",
    "        yazi= nesne_ismi+' '+str(format(skor, '.2f'))+' '+'cansiz'\n",
    "        cv2.putText(resim, yazi,(x1, y1-10), font, 0.55,(255,0,255),2) #nesnenin üzerinde yazıcak yazıyı ayarlama\n",
    "        \n",
    "  \n",
    "cv2.imshow(\"kamera\",resim) # en son hali gösterme, pencerede kamera ismi yazıcak\n",
    "\n",
    "cv2.waitKey() #belirli süre bekletir klavyeden tuşa tıklanınca pencere kapanır\n",
    "cv2.destroyAllWindows() #pencereyi kapatan metot"
   ]
  },
  {
   "cell_type": "markdown",
   "id": "2851ec46",
   "metadata": {},
   "source": [
    "# Videoda Nesne Tespiti"
   ]
  },
  {
   "cell_type": "code",
   "execution_count": 20,
   "id": "9d6aab57",
   "metadata": {},
   "outputs": [],
   "source": [
    "import cv2\n",
    "\n",
    "kamera= cv2.VideoCapture('video1.mp4') #videoyu atama\n",
    "font = cv2.FONT_HERSHEY_SIMPLEX\n",
    "\n",
    "while True:\n",
    "\n",
    "    \"\"\" ret ->arenin başarılı bir şekilde okunup okunmadığını belirtir. Eğer kare okunmuşsa, ret değeri True olur \"\"\"\n",
    "    \"\"\" kare ->okunan kareyi temsil eder ve bu değişken üzerinden işlemler yapılır \"\"\"\n",
    "    ret,kare=kamera.read() \n",
    "    \n",
    "    resimler=cv2.cvtColor(kare,cv2.COLOR_BGR2RGB) #videoda elde edilen resimler rgb formatına çevriliyor\n",
    "    sonuclar = model(resimler,verbose=False) #modelle tahmin edilme işlemi oluyor\n",
    "    \n",
    "    for i in range(len(sonuclar[0].boxes)):\n",
    "        x1,y1,x2,y2=sonuclar[0].boxes.xyxy[i] #resimdeki nesnelerin kordinatları (x1 ve y1->sol üst , x2 ve y2->sağ alt)\n",
    "        skor=sonuclar[0].boxes.conf[i] #tahminin doğruluk oranı\n",
    "        etiket=sonuclar[0].boxes.cls[i] #etiket idsi coco8.yaml veri setine göre\n",
    "        \n",
    "        x1,y1,x2,y2,skor,etiket=int(x1),int(y1),int(x2),int(y2),float(skor),int(etiket) #sırayla değerleri atama\n",
    "        \n",
    "        nesne_ismi=etiketler[etiket]\n",
    "        \n",
    "        if skor<0.5: #doğruluk oranı 0.5 den düşükse geç o nesneyi tanıma\n",
    "            continue\n",
    "\n",
    "        cv2.rectangle(kare,(x1,y1),(x2,y2),(255,0,0),2) #nesne etrafında oluşucak dikdörtgenin kordinatı,rengi ve kalınlığı\n",
    "        yazi= nesne_ismi+' '+str(format(skor, '.2f')) #nesnenin üstünde yazıcak yazı \n",
    "        cv2.putText(kare, yazi,(x1, y1-10), font, 1,(255,0,0), 2) #nesnenin üzerinde yazıcak yazıyı ayarlama\n",
    "\n",
    "\n",
    "    cv2.imshow(\"kamera\",kare)\n",
    "    if cv2.waitKey(1) & 0xFF == ord('q'): #q tuşu ile kapatıcaz öbür türlü kasma oluyor\n",
    "        break\n",
    "kamera.release()\n",
    "cv2.destroyAllWindows()\n"
   ]
  },
  {
   "cell_type": "markdown",
   "id": "03ccdf28",
   "metadata": {},
   "source": [
    "# Webcam ile Nesne Tespiti \n"
   ]
  },
  {
   "cell_type": "code",
   "execution_count": 4,
   "id": "00559b66",
   "metadata": {},
   "outputs": [],
   "source": [
    "import cv2\n",
    "\n",
    "kamera = cv2.VideoCapture(0)  # 0, birinci kamera demektir bilgisayar kamerası yani\n",
    "font = cv2.FONT_HERSHEY_SIMPLEX\n",
    "\n",
    "\n",
    "while True:\n",
    "\n",
    "    \"\"\" ret ->karenin başarılı bir şekilde okunup okunmadığını belirtir. Eğer kare okunmuşsa, ret değeri True döner \"\"\"\n",
    "    \"\"\" kare ->okunan kareyi temsil eder ve bu değişken üzerinden işlemler yapılır \"\"\"\n",
    "    ret,kare=kamera.read() \n",
    "    \n",
    "    resimler=cv2.cvtColor(kare,cv2.COLOR_BGR2RGB) #videoda elde edilen resimler rgb formatına çevriliyor\n",
    "    sonuclar = model(resimler,verbose=False) #modelle tahmin edilme işlemi oluyor\n",
    "    \n",
    "    for i in range(len(sonuclar[0].boxes)):\n",
    "        x1,y1,x2,y2=sonuclar[0].boxes.xyxy[i] #resimdeki nesnelerin kordinatları (x1 ve y1->sol üst , x2 ve y2->sağ alt)\n",
    "        skor=sonuclar[0].boxes.conf[i] #tahminin doğruluk oranı\n",
    "        etiket=sonuclar[0].boxes.cls[i] #etiket idsi coco8.yaml veri setine göre\n",
    "        \n",
    "        x1,y1,x2,y2,skor,etiket=int(x1),int(y1),int(x2),int(y2),float(skor),int(etiket) #sırayla değerleri atama\n",
    "        \n",
    "        nesne_ismi=etiketler[etiket]\n",
    "        \n",
    "        if skor<0.5: #doğruluk oranı 0.5 den düşükse geç o nesneyi tanıma\n",
    "            continue\n",
    "\n",
    "        cv2.rectangle(kare,(x1,y1),(x2,y2),(255,0,0),2) #nesne etrafında oluşucak dikdörtgenin kordinatı,rengi ve kalınlığı\n",
    "        yazi= nesne_ismi+' '+str(format(skor, '.2f')) #nesnenin üstünde yazıcak yazı \n",
    "        cv2.putText(kare, yazi,(x1, y1-10), font, 1,(255,0,0), 2) #nesnenin üzerinde yazıcak yazıyı ayarlama\n",
    "\n",
    "\n",
    "    cv2.imshow(\"kamera\",kare)\n",
    "    if cv2.waitKey(1) & 0xFF == ord('q'): #q tuşu ile kapatıcaz öbür türlü kasma oluyor\n",
    "        break\n",
    "kamera.release()\n",
    "cv2.destroyAllWindows()"
   ]
  },
  {
   "cell_type": "markdown",
   "id": "828df7db",
   "metadata": {},
   "source": [
    "# ARDUNIO İLE NESNE TESPİTİ"
   ]
  },
  {
   "cell_type": "code",
   "execution_count": null,
   "id": "dd9a586a",
   "metadata": {},
   "outputs": [],
   "source": [
    "from ultralytics import YOLO\n",
    "import cv2\n",
    "import serial\n",
    "\n",
    "# Arduino ile seri iletişim kurmak için kullanılan port ve baud hızı\n",
    "arduino_port = 'COM7'  # Arduino'nun bağlı olduğu port\n",
    "baud_rate = 9600  # Arduino ile aynı baud hızı\n",
    "\n",
    "ser = serial.Serial(arduino_port, baud_rate)\n",
    "\n",
    "# YOLO modelini başlat\n",
    "model = YOLO(\"yolov8m.pt\")\n",
    "\n",
    "# Etiket listesi\n",
    "etiketler = ['insan', 'bisiklet', 'araba', 'motorsiklet', 'uçak', 'otobüs', 'tren', 'kamyon', 'bot', 'trafik lambası', 'yangın musluğu', 'dur işareti',\n",
    "          'park metre', 'bank', 'kuş', 'kedi', 'köpek', 'at', 'koyun', 'inek', 'fil', 'ayı', 'zebra', 'zürafa', 'sırt çantası', 'şemsiye', 'el çantası',\n",
    "          'kravat', 'bavul', 'frizbi', 'kayaklar', 'snowbord', 'spor topu', 'uçurtma', 'beyzbol sopası', 'beyzbol eldiveni', 'kaykay', 'sörf tahtası',\n",
    "          'tenis raketi', 'şişe', 'şarap bardağı', 'bardak', 'çatal', 'bıçak', 'kaşık', 'kase', 'muz', 'elma', 'sandviç', 'portakal', 'brokoli', 'havuç', 'hotdog'\n",
    "          , 'pizza', 'donut', 'pasta', 'sandalye', 'kanepe', 'saksı bitkisi', 'yatak', 'yemek masası', 'tuvalet', 'televizyon', 'laptop', 'maus',\n",
    "          'uzaktan kumanda', 'klavye', 'cep telefonu', 'mikrodalga', 'fırın', 'tost makinesi', 'lavabo', 'buzdolabı', 'kitap', 'saat', 'vazo', 'makas'\n",
    "          , 'oyuncak ayı', 'saç kurutucu', 'diş fırçası']\n",
    "\n",
    "canli = ['insan', 'kuş', 'kedi', 'köpek', 'at', 'koyun', 'inek', 'fil', 'ayı', 'zebra', 'zürafa']\n",
    "\n",
    "# Webcam başlat\n",
    "kamera = cv2.VideoCapture(0)  # 0, birinci kamera demektir, eğer birden fazla kamera varsa uygun numarayı kullanın\n",
    "font = cv2.FONT_HERSHEY_SIMPLEX\n",
    "\n",
    "try:\n",
    "    while True:\n",
    "        ret, kare = kamera.read()\n",
    "\n",
    "        resimler = cv2.cvtColor(kare, cv2.COLOR_BGR2RGB)\n",
    "        sonuclar = model(resimler, verbose=False)\n",
    "\n",
    "        canli_nesne = False  # Varsayılan olarak canlı nesne yok\n",
    "\n",
    "        for i in range(len(sonuclar[0].boxes)):\n",
    "            x1, y1, x2, y2 = sonuclar[0].boxes.xyxy[i]\n",
    "            skor = sonuclar[0].boxes.conf[i]\n",
    "            etiket = sonuclar[0].boxes.cls[i]\n",
    "            x1, y1, x2, y2, skor, etiket = (int(x1), int(y1), int(x2), int(y2), float(skor), int(etiket))\n",
    "            nesne_ismi = etiketler[etiket]\n",
    "\n",
    "            if skor < 0.5:\n",
    "                continue\n",
    "\n",
    "            if nesne_ismi in canli:\n",
    "                canli_nesne = True\n",
    "\n",
    "            cv2.rectangle(kare, (x1, y1), (x2, y2), (255, 0, 0), 2)\n",
    "            yazi = nesne_ismi + ' ' + str(format(skor, '.2f'))\n",
    "            cv2.putText(kare, yazi, (x1, y1 - 10), font, 0.55, (255, 0, 255), 2)\n",
    "\n",
    "        # Ardunio'ya veriyi gönder\n",
    "        if canli_nesne:\n",
    "            ser.write(b'H')  # Canlı nesne varsa 'H' gönder\n",
    "            print(\"Canlı Nesne Bulundu!\")\n",
    "        else:\n",
    "            ser.write(b'L')  # Canlı nesne yoksa 'L' gönder\n",
    "            print(\"Canlı Nesne Bulunamadı\")\n",
    "\n",
    "        cv2.imshow(\"Webcam\", kare)\n",
    "        if cv2.waitKey(1) & 0xFF == ord('q'):\n",
    "            break\n",
    "\n",
    "except Exception as e:\n",
    "    print(f\"Hata: {e}\")\n",
    "\n",
    "finally:\n",
    "    # Kullanılan kaynakları serbest bırak ve portu kapat\n",
    "    kamera.release()\n",
    "    cv2.destroyAllWindows()\n",
    "    ser.write(b'L')  # Hata durumunda 'L' gönder\n",
    "    ser.close()"
   ]
  }
 ],
 "metadata": {
  "kernelspec": {
   "display_name": "Python 3 (ipykernel)",
   "language": "python",
   "name": "python3"
  },
  "language_info": {
   "codemirror_mode": {
    "name": "ipython",
    "version": 3
   },
   "file_extension": ".py",
   "mimetype": "text/x-python",
   "name": "python",
   "nbconvert_exporter": "python",
   "pygments_lexer": "ipython3",
   "version": "3.10.9"
  }
 },
 "nbformat": 4,
 "nbformat_minor": 5
}
